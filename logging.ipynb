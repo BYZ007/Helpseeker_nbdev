{
 "cells": [
  {
   "cell_type": "code",
   "execution_count": 1,
   "id": "victorian-advocacy",
   "metadata": {},
   "outputs": [],
   "source": [
    "# default_exp logging"
   ]
  },
  {
   "cell_type": "markdown",
   "id": "aggressive-introduction",
   "metadata": {},
   "source": [
    "# Logging\n",
    "\n",
    "> script to set up logger"
   ]
  },
  {
   "cell_type": "code",
   "execution_count": null,
   "id": "variable-exploration",
   "metadata": {},
   "outputs": [],
   "source": []
  }
 ],
 "metadata": {
  "kernelspec": {
   "display_name": "Python 3",
   "language": "python",
   "name": "python3"
  },
  "language_info": {
   "codemirror_mode": {
    "name": "ipython",
    "version": 3
   },
   "file_extension": ".py",
   "mimetype": "text/x-python",
   "name": "python",
   "nbconvert_exporter": "python",
   "pygments_lexer": "ipython3",
   "version": "3.8.5"
  }
 },
 "nbformat": 4,
 "nbformat_minor": 5
}
