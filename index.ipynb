{
 "cells": [
  {
   "cell_type": "code",
   "execution_count": null,
   "metadata": {},
   "outputs": [],
   "source": [
    "#hide\n",
    "from Helpseeker_nbdev import logging, TargetValuesPreprocessing,path_config"
   ]
  },
  {
   "cell_type": "markdown",
   "metadata": {},
   "source": [
    "# Helpseeker_nbdev\n",
    "\n",
    "> A demo of nbdev in the context of a deep dive project."
   ]
  },
  {
   "cell_type": "markdown",
   "metadata": {},
   "source": [
    "## Install"
   ]
  },
  {
   "cell_type": "markdown",
   "metadata": {},
   "source": [
    "`pip install Helpseeker_nbdev`"
   ]
  },
  {
   "cell_type": "markdown",
   "metadata": {},
   "source": [
    "## How to use"
   ]
  },
  {
   "cell_type": "markdown",
   "metadata": {},
   "source": [
    "Running the TargetValuesPreprocessing script"
   ]
  },
  {
   "cell_type": "markdown",
   "metadata": {},
   "source": [
    "First use the `logging` module to set create a logger."
   ]
  },
  {
   "cell_type": "code",
   "execution_count": null,
   "metadata": {},
   "outputs": [],
   "source": [
    "logger = logging.logging_setup(log_level='INFO')"
   ]
  },
  {
   "cell_type": "markdown",
   "metadata": {},
   "source": [
    "Get the mapped targets using the `get_target_df` function in the `TargetValuesPreprocessing` module. "
   ]
  },
  {
   "cell_type": "code",
   "execution_count": null,
   "metadata": {},
   "outputs": [
    {
     "name": "stdout",
     "output_type": "stream",
     "text": [
      "{\n",
      " \"event\": \"Preprocessing target features\",\n",
      " \"timestamp\": \"datetime.datetime(2021, 2, 24, 19, 19, 29, 165385)\"\n",
      "}\n",
      "{\n",
      " \"event\": \"mapping homeless polygon\",\n",
      " \"timestamp\": \"datetime.datetime(2021, 2, 24, 19, 19, 29, 167382)\"\n",
      "}\n",
      "Failed to auto identify EPSG: 7\n",
      "{\n",
      " \"event\": \"homeless polygon mapping completed\",\n",
      " \"timestamp\": \"datetime.datetime(2021, 2, 24, 19, 19, 29, 267113)\"\n",
      "}\n",
      "{\n",
      " \"event\": \"mapping suicide polygon\",\n",
      " \"timestamp\": \"datetime.datetime(2021, 2, 24, 19, 19, 29, 267113)\"\n",
      "}\n",
      "Failed to auto identify EPSG: 7\n",
      "{\n",
      " \"event\": \"suicide polygon mapping completed\",\n",
      " \"timestamp\": \"datetime.datetime(2021, 2, 24, 19, 19, 29, 359865)\"\n",
      "}\n",
      "{\n",
      " \"event\": \"mapping violence polygon\",\n",
      " \"timestamp\": \"datetime.datetime(2021, 2, 24, 19, 19, 29, 360862)\"\n",
      "}\n",
      "Failed to auto identify EPSG: 7\n",
      "{\n",
      " \"event\": \"violence polygon mapping completed\",\n",
      " \"timestamp\": \"datetime.datetime(2021, 2, 24, 19, 19, 29, 433868)\"\n",
      "}\n"
     ]
    }
   ],
   "source": [
    "mapped_targets = TargetValuesPreprocessing.get_target_df(\n",
    "       path_config.target_features,\n",
    "       path_config.target_path,\n",
    "       path_config.polygon_path,\n",
    "       path_config.target_df_regions,\n",
    "       logger)"
   ]
  },
  {
   "cell_type": "markdown",
   "metadata": {},
   "source": [
    "This returns a dictionary of `geo dataframes` with the target values and geometry corresponding to the locations the target values are referencing."
   ]
  },
  {
   "cell_type": "code",
   "execution_count": null,
   "metadata": {},
   "outputs": [
    {
     "data": {
      "text/html": [
       "<div>\n",
       "<style scoped>\n",
       "    .dataframe tbody tr th:only-of-type {\n",
       "        vertical-align: middle;\n",
       "    }\n",
       "\n",
       "    .dataframe tbody tr th {\n",
       "        vertical-align: top;\n",
       "    }\n",
       "\n",
       "    .dataframe thead th {\n",
       "        text-align: right;\n",
       "    }\n",
       "</style>\n",
       "<table border=\"1\" class=\"dataframe\">\n",
       "  <thead>\n",
       "    <tr style=\"text-align: right;\">\n",
       "      <th></th>\n",
       "      <th>Year</th>\n",
       "      <th>Province</th>\n",
       "      <th>Community</th>\n",
       "      <th>PIT Total</th>\n",
       "      <th>PIT-Sheltered</th>\n",
       "      <th>PIT-Unsheltered</th>\n",
       "      <th>DV_target</th>\n",
       "      <th>CSDNAME</th>\n",
       "      <th>geometry</th>\n",
       "    </tr>\n",
       "  </thead>\n",
       "  <tbody>\n",
       "    <tr>\n",
       "      <th>0</th>\n",
       "      <td>2002</td>\n",
       "      <td>British Columbia</td>\n",
       "      <td>Burnaby</td>\n",
       "      <td>18</td>\n",
       "      <td>14</td>\n",
       "      <td>44</td>\n",
       "      <td>Burnaby</td>\n",
       "      <td>Burnaby</td>\n",
       "      <td>POLYGON ((4026984.377 2004001.803, 4027065.283...</td>\n",
       "    </tr>\n",
       "    <tr>\n",
       "      <th>1</th>\n",
       "      <td>2002</td>\n",
       "      <td>British Columbia</td>\n",
       "      <td>Delta/White Rock</td>\n",
       "      <td>11</td>\n",
       "      <td>0</td>\n",
       "      <td>0</td>\n",
       "      <td>None</td>\n",
       "      <td>Delta</td>\n",
       "      <td>MULTIPOLYGON (((4027416.129 1971099.869, 40275...</td>\n",
       "    </tr>\n",
       "    <tr>\n",
       "      <th>2</th>\n",
       "      <td>2002</td>\n",
       "      <td>British Columbia</td>\n",
       "      <td>Langley</td>\n",
       "      <td>18</td>\n",
       "      <td>0</td>\n",
       "      <td>0</td>\n",
       "      <td>None</td>\n",
       "      <td>Langley</td>\n",
       "      <td>POLYGON ((4044035.820 1983268.574, 4044044.823...</td>\n",
       "    </tr>\n",
       "    <tr>\n",
       "      <th>3</th>\n",
       "      <td>2002</td>\n",
       "      <td>British Columbia</td>\n",
       "      <td>Maple Ridge/Pitt Meadows</td>\n",
       "      <td>66</td>\n",
       "      <td>0</td>\n",
       "      <td>0</td>\n",
       "      <td>None</td>\n",
       "      <td>Maple Ridge</td>\n",
       "      <td>POLYGON ((4060993.469 1993881.186, 4061981.717...</td>\n",
       "    </tr>\n",
       "    <tr>\n",
       "      <th>4</th>\n",
       "      <td>2002</td>\n",
       "      <td>British Columbia</td>\n",
       "      <td>New Westminster</td>\n",
       "      <td>74</td>\n",
       "      <td>0</td>\n",
       "      <td>0</td>\n",
       "      <td>New Westminster</td>\n",
       "      <td>New Westminster</td>\n",
       "      <td>POLYGON ((4031000.411 1995145.954, 4031031.369...</td>\n",
       "    </tr>\n",
       "  </tbody>\n",
       "</table>\n",
       "</div>"
      ],
      "text/plain": [
       "   Year          Province                 Community  PIT Total  PIT-Sheltered  \\\n",
       "0  2002  British Columbia                   Burnaby         18             14   \n",
       "1  2002  British Columbia          Delta/White Rock         11              0   \n",
       "2  2002  British Columbia                   Langley         18              0   \n",
       "3  2002  British Columbia  Maple Ridge/Pitt Meadows         66              0   \n",
       "4  2002  British Columbia           New Westminster         74              0   \n",
       "\n",
       "   PIT-Unsheltered        DV_target          CSDNAME  \\\n",
       "0               44          Burnaby          Burnaby   \n",
       "1                0             None            Delta   \n",
       "2                0             None          Langley   \n",
       "3                0             None      Maple Ridge   \n",
       "4                0  New Westminster  New Westminster   \n",
       "\n",
       "                                            geometry  \n",
       "0  POLYGON ((4026984.377 2004001.803, 4027065.283...  \n",
       "1  MULTIPOLYGON (((4027416.129 1971099.869, 40275...  \n",
       "2  POLYGON ((4044035.820 1983268.574, 4044044.823...  \n",
       "3  POLYGON ((4060993.469 1993881.186, 4061981.717...  \n",
       "4  POLYGON ((4031000.411 1995145.954, 4031031.369...  "
      ]
     },
     "execution_count": null,
     "metadata": {},
     "output_type": "execute_result"
    }
   ],
   "source": [
    "mapped_targets['homeless'].head()"
   ]
  }
 ],
 "metadata": {
  "kernelspec": {
   "display_name": "Python 3",
   "language": "python",
   "name": "python3"
  }
 },
 "nbformat": 4,
 "nbformat_minor": 2
}
