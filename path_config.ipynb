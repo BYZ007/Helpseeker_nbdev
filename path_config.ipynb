{
 "cells": [
  {
   "cell_type": "code",
   "execution_count": null,
   "id": "earlier-friend",
   "metadata": {},
   "outputs": [],
   "source": [
    "# default_exp path_config"
   ]
  },
  {
   "cell_type": "markdown",
   "id": "passive-organ",
   "metadata": {},
   "source": [
    "# Path Config\n",
    "\n",
    "> script to get config parameters as variables"
   ]
  },
  {
   "cell_type": "code",
   "execution_count": null,
   "id": "level-spectacular",
   "metadata": {},
   "outputs": [],
   "source": []
  }
 ],
 "metadata": {
  "kernelspec": {
   "display_name": "Python 3",
   "language": "python",
   "name": "python3"
  }
 },
 "nbformat": 4,
 "nbformat_minor": 5
}
