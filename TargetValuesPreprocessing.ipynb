{
 "cells": [
  {
   "cell_type": "code",
   "execution_count": null,
   "id": "occupied-indonesian",
   "metadata": {},
   "outputs": [],
   "source": [
    "# default_exp TargetValuesPreprocessing"
   ]
  },
  {
   "cell_type": "markdown",
   "id": "refined-knowing",
   "metadata": {},
   "source": [
    "# Target Values Preprocessing\n",
    "\n",
    "> script to read target values and map them to the appropriate polygons"
   ]
  },
  {
   "cell_type": "code",
   "execution_count": null,
   "id": "dynamic-pencil",
   "metadata": {},
   "outputs": [],
   "source": []
  }
 ],
 "metadata": {
  "kernelspec": {
   "display_name": "Python 3",
   "language": "python",
   "name": "python3"
  }
 },
 "nbformat": 4,
 "nbformat_minor": 5
}
