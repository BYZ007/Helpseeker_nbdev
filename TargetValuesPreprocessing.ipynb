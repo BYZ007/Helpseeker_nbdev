{
 "cells": [
  {
   "cell_type": "code",
   "execution_count": 1,
   "id": "occupied-indonesian",
   "metadata": {},
   "outputs": [],
   "source": [
    "# default_exp TargetValuesPreprocessing"
   ]
  },
  {
   "cell_type": "markdown",
   "id": "refined-knowing",
   "metadata": {},
   "source": [
    "# Target Values Preprocessing\n",
    "\n",
    "> script to read target values and map them to the appropriate polygons"
   ]
  },
  {
   "cell_type": "code",
   "execution_count": null,
   "id": "dynamic-pencil",
   "metadata": {},
   "outputs": [],
   "source": []
  }
 ],
 "metadata": {
  "kernelspec": {
   "display_name": "Python 3",
   "language": "python",
   "name": "python3"
  },
  "language_info": {
   "codemirror_mode": {
    "name": "ipython",
    "version": 3
   },
   "file_extension": ".py",
   "mimetype": "text/x-python",
   "name": "python",
   "nbconvert_exporter": "python",
   "pygments_lexer": "ipython3",
   "version": "3.8.5"
  }
 },
 "nbformat": 4,
 "nbformat_minor": 5
}
